{
 "cells": [
  {
   "cell_type": "code",
   "execution_count": 1,
   "metadata": {},
   "outputs": [],
   "source": [
    "import pandas as pd\n",
    "import os\n",
    "import numpy as np"
   ]
  },
  {
   "cell_type": "code",
   "execution_count": 2,
   "metadata": {},
   "outputs": [],
   "source": [
    "base_dir = \"/srv/storage/talc3@storage4.nancy.grid5000.fr/multispeech/calcul/users/jayilo/enhanced_audio_only\"\n",
    "\n",
    "metrics = ['pesq', 'estoi', 'si_sdr', 'si_sir', 'si_sar',\n",
    "           'pesq_noisy', 'estoi_noisy', 'si_sdr_noisy', 'si_sir_noisy','si_sar_noisy']\n"
   ]
  },
  {
   "cell_type": "code",
   "execution_count": null,
   "metadata": {},
   "outputs": [],
   "source": []
  },
  {
   "cell_type": "code",
   "execution_count": 1,
   "metadata": {
    "collapsed": true,
    "jupyter": {
     "outputs_hidden": true
    }
   },
   "outputs": [
    {
     "ename": "NameError",
     "evalue": "name 'os' is not defined",
     "output_type": "error",
     "traceback": [
      "\u001b[0;31m---------------------------------------------------------------------------\u001b[0m",
      "\u001b[0;31mNameError\u001b[0m                                 Traceback (most recent call last)",
      "Cell \u001b[0;32mIn[1], line 2\u001b[0m\n\u001b[1;32m      1\u001b[0m \u001b[38;5;66;03m##tcd\u001b[39;00m\n\u001b[0;32m----> 2\u001b[0m \u001b[38;5;28;01mfor\u001b[39;00m folder \u001b[38;5;129;01min\u001b[39;00m [folder \u001b[38;5;28;01mfor\u001b[39;00m folder \u001b[38;5;129;01min\u001b[39;00m \u001b[43mos\u001b[49m\u001b[38;5;241m.\u001b[39mlistdir(base_dir) \u001b[38;5;28;01mif\u001b[39;00m \u001b[38;5;124m'\u001b[39m\u001b[38;5;124maudio_only_tcd\u001b[39m\u001b[38;5;124m'\u001b[39m \u001b[38;5;129;01min\u001b[39;00m folder]:\n\u001b[1;32m      4\u001b[0m     df \u001b[38;5;241m=\u001b[39m pd\u001b[38;5;241m.\u001b[39mread_csv(os\u001b[38;5;241m.\u001b[39mpath\u001b[38;5;241m.\u001b[39mjoin(base_dir,folder,\u001b[38;5;124m\"\u001b[39m\u001b[38;5;124m_raw_results_merged.csv\u001b[39m\u001b[38;5;124m\"\u001b[39m))\n\u001b[1;32m      6\u001b[0m     sub_df \u001b[38;5;241m=\u001b[39m df[df\u001b[38;5;241m.\u001b[39msnr\u001b[38;5;241m.\u001b[39misin([\u001b[38;5;241m-\u001b[39m\u001b[38;5;241m5\u001b[39m,\u001b[38;5;241m0\u001b[39m,\u001b[38;5;241m5\u001b[39m])]\n",
      "\u001b[0;31mNameError\u001b[0m: name 'os' is not defined"
     ]
    }
   ],
   "source": [
    "##tcd\n",
    "for folder in [folder for folder in os.listdir(base_dir) if 'audio_only_tcd' in folder]:\n",
    "    \n",
    "    df = pd.read_csv(os.path.join(base_dir,folder,\"_raw_results_merged.csv\"))\n",
    "\n",
    "    sub_df = df[df.snr.isin([-5,0,5])]\n",
    "       \n",
    "    global_mean = round(sub_df[metrics].mean(),2) ; global_mean.to_csv(os.path.join(base_dir,folder,\"summary_metrics\", \"_metrics_mean_global_snr_-5_0_5\"))\n",
    "    global_std = round(sub_df[metrics].std(),2) ; global_std.to_csv(os.path.join(base_dir,folder,\"summary_metrics\", \"_metrics_std_global_snr_-5_0_5\"))\n",
    "    global_sem = round(sub_df[metrics].sem(),2) ; global_sem.to_csv(os.path.join(base_dir,folder,\"summary_metrics\", \"_metrics_sem_global_snr_-5_0_5\"))\n",
    "    \n",
    "    mean_sem = {metric : f'{str(global_mean[metric])} ± {str(global_sem[metric])}' for metric in metrics}\n",
    "    \n",
    "    mean_sem = pd.DataFrame(mean_sem, index=[0])\n",
    "    \n",
    "    mean_sem.to_csv(os.path.join(base_dir,folder,\"summary_metrics\",\"mean_sem_snr_-5_0_5.csv\"), index=False)\n",
    "    "
   ]
  },
  {
   "cell_type": "code",
   "execution_count": null,
   "metadata": {},
   "outputs": [],
   "source": []
  },
  {
   "cell_type": "code",
   "execution_count": 6,
   "metadata": {},
   "outputs": [],
   "source": [
    "##wsj\n",
    "for folder in [folder for folder in os.listdir(base_dir) if 'audio_only_wsj0' in folder]:\n",
    "    \n",
    "    df = pd.read_csv(os.path.join(base_dir,folder,\"_results.csv\"))\n",
    "\n",
    "    sub_df = df[df.snr.isin([-5,0,5])]\n",
    "       \n",
    "    global_mean = round(sub_df[metrics].mean(),2) #; global_mean.to_csv(os.path.join(base_dir,folder,\"summary_metrics\", \"_metrics_mean_global_snr_-5_0_5\"))\n",
    "    global_std = round(sub_df[metrics].std(),2) #; global_std.to_csv(os.path.join(base_dir,folder,\"summary_metrics\", \"_metrics_std_global_snr_-5_0_5\"))\n",
    "    global_sem = round(sub_df[metrics].sem(),2) #; global_sem.to_csv(os.path.join(base_dir,folder,\"summary_metrics\", \"_metrics_sem_global_snr_-5_0_5\"))\n",
    "    \n",
    "    mean_sem = {metric : f'{str(global_mean[metric])} ± {str(global_sem[metric])}' for metric in metrics}\n",
    "    \n",
    "    mean_sem = pd.DataFrame(mean_sem, index=[0])\n",
    "    \n",
    "    mean_sem.to_csv(os.path.join(base_dir,folder,\"summary_metrics\",f\"mean_sem_snr_-5_0_5_{folder}.csv\"), index=False)\n",
    "    "
   ]
  },
  {
   "cell_type": "code",
   "execution_count": null,
   "metadata": {},
   "outputs": [],
   "source": []
  },
  {
   "cell_type": "code",
   "execution_count": null,
   "metadata": {},
   "outputs": [],
   "source": []
  },
  {
   "cell_type": "code",
   "execution_count": 3,
   "metadata": {},
   "outputs": [
    {
     "data": {
      "text/plain": [
       "['audio_only_tcd_addloss_convex_normalized_sigma_theoretical_form',\n",
       " 'audio_only_tcd_with_wsj0_convex_normalized_sigma_theoretical_form_ckpt']"
      ]
     },
     "execution_count": 3,
     "metadata": {},
     "output_type": "execute_result"
    }
   ],
   "source": [
    "[folder for folder in os.listdir(base_dir) if 'audio_only_tcd' in folder and \"theo\" in folder]"
   ]
  },
  {
   "cell_type": "code",
   "execution_count": 4,
   "metadata": {},
   "outputs": [],
   "source": [
    "[folder for folder in os.listdir(base_dir) if 'audio_only_tcd' in folder and \"theo\" in folder]\n",
    "\n",
    "##tcd\n",
    "for folder in [folder for folder in os.listdir(base_dir) if 'audio_only_tcd' in folder]:\n",
    "    \n",
    "    df = pd.read_csv(os.path.join(base_dir,folder,\"_raw_results_merged.csv\"))\n",
    "\n",
    "    sub_df = df[df.snr.isin([-5,0,5])]\n",
    "       \n",
    "    global_mean = round(sub_df[metrics].mean(),2) ; global_mean.to_csv(os.path.join(base_dir,folder,\"summary_metrics\", \"_metrics_mean_global_snr_-5_0_5\"))\n",
    "    global_std = round(sub_df[metrics].std(),2) ; global_std.to_csv(os.path.join(base_dir,folder,\"summary_metrics\", \"_metrics_std_global_snr_-5_0_5\"))\n",
    "    global_sem = round(sub_df[metrics].sem(),2) ; global_sem.to_csv(os.path.join(base_dir,folder,\"summary_metrics\", \"_metrics_sem_global_snr_-5_0_5\"))\n",
    "    \n",
    "    mean_sem = {metric : f'{str(global_mean[metric])} ± {str(global_sem[metric])}' for metric in metrics}\n",
    "    \n",
    "    mean_sem = pd.DataFrame(mean_sem, index=[0])\n",
    "    \n",
    "    mean_sem.to_csv(os.path.join(base_dir,folder,\"summary_metrics\",\"mean_sem_snr_-5_0_5.csv\"), index=False)\n",
    "    "
   ]
  },
  {
   "cell_type": "code",
   "execution_count": 5,
   "metadata": {},
   "outputs": [],
   "source": [
    "##wsj\n",
    "for folder in [folder for folder in os.listdir(base_dir) if 'audio_only_wsj0' in folder and \"theo\" in folder]:\n",
    "    \n",
    "    df = pd.read_csv(os.path.join(base_dir,folder,\"_results.csv\"))\n",
    "\n",
    "    sub_df = df[df.snr.isin([-5,0,5])]\n",
    "       \n",
    "    global_mean = round(sub_df[metrics].mean(),2) #; global_mean.to_csv(os.path.join(base_dir,folder,\"summary_metrics\", \"_metrics_mean_global_snr_-5_0_5\"))\n",
    "    global_std = round(sub_df[metrics].std(),2) #; global_std.to_csv(os.path.join(base_dir,folder,\"summary_metrics\", \"_metrics_std_global_snr_-5_0_5\"))\n",
    "    global_sem = round(sub_df[metrics].sem(),2) #; global_sem.to_csv(os.path.join(base_dir,folder,\"summary_metrics\", \"_metrics_sem_global_snr_-5_0_5\"))\n",
    "    \n",
    "    mean_sem = {metric : f'{str(global_mean[metric])} ± {str(global_sem[metric])}' for metric in metrics}\n",
    "    \n",
    "    mean_sem = pd.DataFrame(mean_sem, index=[0])\n",
    "    \n",
    "    mean_sem.to_csv(os.path.join(base_dir,folder,\"summary_metrics\",\"mean_sem_snr_-5_0_5.csv\"), index=False)\n",
    "    "
   ]
  },
  {
   "cell_type": "code",
   "execution_count": null,
   "metadata": {},
   "outputs": [],
   "source": []
  },
  {
   "cell_type": "code",
   "execution_count": null,
   "metadata": {},
   "outputs": [],
   "source": [
    "#### statistic for mos metrics"
   ]
  },
  {
   "cell_type": "code",
   "execution_count": 3,
   "metadata": {},
   "outputs": [],
   "source": [
    "new_metrics = ['SI-SDR', 'STOI', 'PESQ','MOS_SIG', 'MOS_BAK', 'MOS_OVR']"
   ]
  },
  {
   "cell_type": "code",
   "execution_count": 9,
   "metadata": {},
   "outputs": [],
   "source": [
    "\n",
    "##tcd\n",
    "for folder in [folder for folder in os.listdir(base_dir) if 'audio_only_tcd' in folder and \"theo\" in folder]:\n",
    "    \n",
    "    df = pd.read_csv(os.path.join(base_dir,folder,\"metrics.csv\")) #input_metrics.csv\n",
    "\n",
    "    sub_df = df[df['Noise SNR'].isin([-5,0,5])]\n",
    "       \n",
    "    global_mean = round(sub_df[new_metrics].mean(),2) #; global_mean.to_csv(os.path.join(base_dir,folder,\"summary_metrics\", \"_metrics_mean_global_snr_-5_0_5\"))\n",
    "    global_std = round(sub_df[new_metrics].std(),2) #; global_std.to_csv(os.path.join(base_dir,folder,\"summary_metrics\", \"_metrics_std_global_snr_-5_0_5\"))\n",
    "    global_sem = round(sub_df[new_metrics].sem(),2) #; global_sem.to_csv(os.path.join(base_dir,folder,\"summary_metrics\", \"_metrics_sem_global_snr_-5_0_5\"))\n",
    "    \n",
    "    mean_sem = {metric : f'{str(global_mean[metric])} ± {str(global_sem[metric])}' for metric in new_metrics}\n",
    "    \n",
    "    mean_sem = pd.DataFrame(mean_sem, index=[0])\n",
    "    \n",
    "    mean_sem.to_csv(os.path.join(base_dir,folder,f\"_mos_mean_sem_snr_-5_0_5_{folder}.csv\"), index=False)\n",
    "    \n",
    "    \n",
    "    "
   ]
  },
  {
   "cell_type": "code",
   "execution_count": null,
   "metadata": {},
   "outputs": [],
   "source": []
  },
  {
   "cell_type": "code",
   "execution_count": 8,
   "metadata": {},
   "outputs": [],
   "source": [
    "\n",
    "##wsj0\n",
    "for folder in [folder for folder in os.listdir(base_dir) if 'audio_only_wsj0' in folder and \"theo\" in folder]:\n",
    "    \n",
    "    df = pd.read_csv(os.path.join(base_dir,folder,\"metrics.csv\"))\n",
    "\n",
    "    sub_df = df[df['Noise SNR'].isin([-5,0,5])]\n",
    "       \n",
    "    global_mean = round(sub_df[new_metrics].mean(),2) #; global_mean.to_csv(os.path.join(base_dir,folder,\"summary_metrics\", \"_metrics_mean_global_snr_-5_0_5\"))\n",
    "    global_std = round(sub_df[new_metrics].std(),2) #; global_std.to_csv(os.path.join(base_dir,folder,\"summary_metrics\", \"_metrics_std_global_snr_-5_0_5\"))\n",
    "    global_sem = round(sub_df[new_metrics].sem(),2) #; global_sem.to_csv(os.path.join(base_dir,folder,\"summary_metrics\", \"_metrics_sem_global_snr_-5_0_5\"))\n",
    "    \n",
    "    mean_sem = {metric : f'{str(global_mean[metric])} ± {str(global_sem[metric])}' for metric in new_metrics}\n",
    "    \n",
    "    mean_sem = pd.DataFrame(mean_sem, index=[0])\n",
    "    \n",
    "    mean_sem.to_csv(os.path.join(base_dir,folder,f\"_mos_mean_sem_snr_-5_0_5_{folder}.csv\"), index=False)\n",
    "    "
   ]
  },
  {
   "cell_type": "code",
   "execution_count": null,
   "metadata": {},
   "outputs": [],
   "source": []
  },
  {
   "cell_type": "code",
   "execution_count": null,
   "metadata": {},
   "outputs": [],
   "source": []
  },
  {
   "cell_type": "code",
   "execution_count": 8,
   "metadata": {},
   "outputs": [
    {
     "data": {
      "text/plain": [
       "['audio_only_tcd_addloss_convex_normalized_sigma_theoretical_form',\n",
       " 'audio_only_tcd_with_wsj0_convex_normalized_sigma_theoretical_form_ckpt']"
      ]
     },
     "execution_count": 8,
     "metadata": {},
     "output_type": "execute_result"
    }
   ],
   "source": [
    "[folder for folder in os.listdir(base_dir) if 'audio_only_tcd' in folder and \"theo\" in folder]"
   ]
  },
  {
   "cell_type": "code",
   "execution_count": null,
   "metadata": {},
   "outputs": [],
   "source": []
  },
  {
   "cell_type": "code",
   "execution_count": null,
   "metadata": {},
   "outputs": [],
   "source": []
  },
  {
   "cell_type": "code",
   "execution_count": 10,
   "metadata": {},
   "outputs": [],
   "source": [
    "folder = \"audio_only_tcd_addloss_convex_normalized_sigma_theoretical_form\"\n",
    "df = pd.read_csv(os.path.join(base_dir,folder,\"input_metrics.csv\"))\n",
    "\n",
    "sub_df = df[df['Noise SNR'].isin([-5,0,5])]"
   ]
  },
  {
   "cell_type": "code",
   "execution_count": 11,
   "metadata": {},
   "outputs": [
    {
     "data": {
      "text/plain": [
       "SI-SDR    -7.81\n",
       "STOI       0.31\n",
       "PESQ       1.77\n",
       "MOS_SIG    3.51\n",
       "MOS_BAK    2.28\n",
       "MOS_OVR    2.69\n",
       "dtype: float64"
      ]
     },
     "execution_count": 11,
     "metadata": {},
     "output_type": "execute_result"
    }
   ],
   "source": [
    "round(sub_df[new_metrics].mean(),2)"
   ]
  },
  {
   "cell_type": "code",
   "execution_count": 10,
   "metadata": {},
   "outputs": [
    {
     "data": {
      "text/plain": [
       "9"
      ]
     },
     "execution_count": 10,
     "metadata": {},
     "output_type": "execute_result"
    }
   ],
   "source": [
    "len(sub_df.speaker_id.unique())"
   ]
  },
  {
   "cell_type": "code",
   "execution_count": null,
   "metadata": {},
   "outputs": [],
   "source": [
    "len(sub_df.speaker_id.unique())"
   ]
  },
  {
   "cell_type": "code",
   "execution_count": 12,
   "metadata": {},
   "outputs": [
    {
     "data": {
      "text/plain": [
       "array(['Babble', 'Cafe', 'Car', 'LR', 'Street', 'White'], dtype=object)"
      ]
     },
     "execution_count": 12,
     "metadata": {},
     "output_type": "execute_result"
    }
   ],
   "source": [
    "sub_df.noise_type.unique()"
   ]
  },
  {
   "cell_type": "code",
   "execution_count": null,
   "metadata": {},
   "outputs": [],
   "source": []
  }
 ],
 "metadata": {
  "kernelspec": {
   "display_name": "newenv",
   "language": "python",
   "name": "newenv"
  },
  "language_info": {
   "codemirror_mode": {
    "name": "ipython",
    "version": 3
   },
   "file_extension": ".py",
   "mimetype": "text/x-python",
   "name": "python",
   "nbconvert_exporter": "python",
   "pygments_lexer": "ipython3",
   "version": "3.8.16"
  }
 },
 "nbformat": 4,
 "nbformat_minor": 4
}
